{
 "cells": [
  {
   "cell_type": "code",
   "execution_count": 4,
   "id": "590e209b",
   "metadata": {},
   "outputs": [
    {
     "ename": "SyntaxError",
     "evalue": "EOL while scanning string literal (<ipython-input-4-41f5c3ea458a>, line 11)",
     "output_type": "error",
     "traceback": [
      "\u001b[1;36m  File \u001b[1;32m\"<ipython-input-4-41f5c3ea458a>\"\u001b[1;36m, line \u001b[1;32m11\u001b[0m\n\u001b[1;33m    if(self.filename==\"):\u001b[0m\n\u001b[1;37m                         ^\u001b[0m\n\u001b[1;31mSyntaxError\u001b[0m\u001b[1;31m:\u001b[0m EOL while scanning string literal\n"
     ]
    }
   ],
   "source": [
    "from tkinter import*\n",
    "from tkinter import messagebox\n",
    "from tkinter import dialogbox\n",
    "\n",
    "\n",
    "test=Tk()\n",
    "test.title(\"WIKI SEARCH\")\n",
    "font_format=(\"times new roman\",16,\"bold\")\n",
    "\n",
    "def search():\n",
    "    s=get_s.get()\n",
    "    q=text.insert(INSERT,wikipedia.summary(s))\n",
    "    filename=filedialog.savefile('name',title='search and save')\n",
    "\n",
    "def win():\n",
    "    file=askopenfile(mode='r',filetypes=[('searched files','doc')])\n",
    "    if file is not None:\n",
    "        content=file.read()\n",
    "        print(content)\n",
    "\n",
    "label1=Label(test,text=\"enter the keyword\",font=font_format)\n",
    "\n",
    "a=Entry(test)\n",
    "\n",
    "label1.grid(row=0,column=0)\n",
    "button1=Button(test,text=\"search and save\",padx=40,pady=20,font=font_format)\n",
    "button2=Button(test,text=\"open\",padx=40,pady=20,command=test.quit,font=font_format)\n",
    "\n",
    "a.grid(row=0,column=1)\n",
    "button1.grid(row=2,column=0)\n",
    "button2.grid(row=2,column=1)\n",
    "\n",
    "test.mainloop()\n"
   ]
  },
  {
   "cell_type": "code",
   "execution_count": null,
   "id": "1999c00b",
   "metadata": {},
   "outputs": [],
   "source": []
  }
 ],
 "metadata": {
  "kernelspec": {
   "display_name": "Python 3",
   "language": "python",
   "name": "python3"
  },
  "language_info": {
   "codemirror_mode": {
    "name": "ipython",
    "version": 3
   },
   "file_extension": ".py",
   "mimetype": "text/x-python",
   "name": "python",
   "nbconvert_exporter": "python",
   "pygments_lexer": "ipython3",
   "version": "3.8.8"
  }
 },
 "nbformat": 4,
 "nbformat_minor": 5
}
